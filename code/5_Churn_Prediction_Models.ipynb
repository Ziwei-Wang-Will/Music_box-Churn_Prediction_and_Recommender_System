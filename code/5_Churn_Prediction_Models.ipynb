{
 "cells": [
  {
   "cell_type": "markdown",
   "metadata": {},
   "source": [
    "# Music_Box - Model for Churn Prediction and Insights"
   ]
  },
  {
   "cell_type": "markdown",
   "metadata": {},
   "source": [
    "## Main tasks\n",
    "\n",
    "1. Load data, Define Features and Target    \n",
    "    - 1.1 Load data    \n",
    "    - 1.2 Define Features and Target    \n",
    "2. Split train-test data, and define model realted functions    \n",
    "    - 2.1 Train-test split the data  \n",
    "    - 2.2 Define model related functions  \n",
    "3. Models comparison and reasoning  \n",
    "    - 3.1 Logistic Regression  \n",
    "    - 3.2 Random Forest  \n",
    "    - 3.3 Gradient Boosting Trees  \n",
    "4. HyperParameter Tuning with Grid Search   \n",
    "    - 4.1 Random Forest HyperParameter Tuning with Grid Search  \n",
    "5. Explore features importance to get insights  \n",
    "    - 5.1 Top 10 features analysis  \n",
    "    - 5.2 Business model and stage analysis  \n",
    "    - 5.3 Insights  \n",
    "    - 5.4 Next setp  "
   ]
  },
  {
   "cell_type": "markdown",
   "metadata": {},
   "source": [
    "## 1. Load data, Define Features and Target\n",
    "- 1.1 Load data    \n",
    "- 1.2 Define Features and Target"
   ]
  },
  {
   "cell_type": "markdown",
   "metadata": {},
   "source": [
    "### 1.1 Load data"
   ]
  },
  {
   "cell_type": "code",
   "execution_count": 1,
   "metadata": {},
   "outputs": [],
   "source": [
    "import numpy as np\n",
    "import pandas as pd\n",
    "import matplotlib.pyplot as plt\n",
    "import warnings\n",
    "warnings.filterwarnings(\"ignore\")\n",
    "\n",
    "% matplotlib inline\n",
    "# Always make it pretty.\n",
    "plt.style.use('ggplot')"
   ]
  },
  {
   "cell_type": "code",
   "execution_count": 2,
   "metadata": {},
   "outputs": [],
   "source": [
    "# Load data from file\n",
    "df = pd.read_csv('../data/df_model_final.csv')"
   ]
  },
  {
   "cell_type": "code",
   "execution_count": 3,
   "metadata": {},
   "outputs": [
    {
     "data": {
      "text/html": [
       "<div>\n",
       "<style scoped>\n",
       "    .dataframe tbody tr th:only-of-type {\n",
       "        vertical-align: middle;\n",
       "    }\n",
       "\n",
       "    .dataframe tbody tr th {\n",
       "        vertical-align: top;\n",
       "    }\n",
       "\n",
       "    .dataframe thead th {\n",
       "        text-align: right;\n",
       "    }\n",
       "</style>\n",
       "<table border=\"1\" class=\"dataframe\">\n",
       "  <thead>\n",
       "    <tr style=\"text-align: right;\">\n",
       "      <th></th>\n",
       "      <th>uid</th>\n",
       "      <th>label</th>\n",
       "      <th>time_percentage_0_to_20</th>\n",
       "      <th>time_percentage_20_to_40</th>\n",
       "      <th>time_percentage_40_to_60</th>\n",
       "      <th>time_percentage_60_to_80</th>\n",
       "      <th>time_percentage_larger_than_80</th>\n",
       "      <th>time_percentage_larger_than_80_7d_over_30d</th>\n",
       "      <th>total_play_time</th>\n",
       "      <th>total_play_time_7d_over_30d</th>\n",
       "      <th>...</th>\n",
       "      <th>freq_S_last_3</th>\n",
       "      <th>freq_S_last_7</th>\n",
       "      <th>freq_S_last_14</th>\n",
       "      <th>freq_S_last_30</th>\n",
       "      <th>P_7d_over_P_30d</th>\n",
       "      <th>D_7d_over_D_30d</th>\n",
       "      <th>S_7d_over_S_30d</th>\n",
       "      <th>last_P_time_from_2017-04-28</th>\n",
       "      <th>last_D_time_from_2017-04-28</th>\n",
       "      <th>last_S_time_from_2017-04-28</th>\n",
       "    </tr>\n",
       "  </thead>\n",
       "  <tbody>\n",
       "    <tr>\n",
       "      <th>0</th>\n",
       "      <td>104777734</td>\n",
       "      <td>1</td>\n",
       "      <td>1.00</td>\n",
       "      <td>0.00</td>\n",
       "      <td>0.00</td>\n",
       "      <td>0.00</td>\n",
       "      <td>0.00</td>\n",
       "      <td>0.00</td>\n",
       "      <td>37</td>\n",
       "      <td>0.00</td>\n",
       "      <td>...</td>\n",
       "      <td>0</td>\n",
       "      <td>0</td>\n",
       "      <td>0</td>\n",
       "      <td>0</td>\n",
       "      <td>0.00</td>\n",
       "      <td>0.0</td>\n",
       "      <td>0.00</td>\n",
       "      <td>28</td>\n",
       "      <td>0</td>\n",
       "      <td>0</td>\n",
       "    </tr>\n",
       "    <tr>\n",
       "      <th>1</th>\n",
       "      <td>11596711</td>\n",
       "      <td>0</td>\n",
       "      <td>0.47</td>\n",
       "      <td>0.11</td>\n",
       "      <td>0.02</td>\n",
       "      <td>0.06</td>\n",
       "      <td>0.34</td>\n",
       "      <td>0.45</td>\n",
       "      <td>11476</td>\n",
       "      <td>0.47</td>\n",
       "      <td>...</td>\n",
       "      <td>2</td>\n",
       "      <td>3</td>\n",
       "      <td>11</td>\n",
       "      <td>21</td>\n",
       "      <td>0.36</td>\n",
       "      <td>0.0</td>\n",
       "      <td>0.14</td>\n",
       "      <td>0</td>\n",
       "      <td>0</td>\n",
       "      <td>1</td>\n",
       "    </tr>\n",
       "    <tr>\n",
       "      <th>2</th>\n",
       "      <td>118301183</td>\n",
       "      <td>1</td>\n",
       "      <td>0.70</td>\n",
       "      <td>0.10</td>\n",
       "      <td>0.00</td>\n",
       "      <td>0.00</td>\n",
       "      <td>0.20</td>\n",
       "      <td>0.00</td>\n",
       "      <td>611</td>\n",
       "      <td>0.00</td>\n",
       "      <td>...</td>\n",
       "      <td>0</td>\n",
       "      <td>0</td>\n",
       "      <td>0</td>\n",
       "      <td>0</td>\n",
       "      <td>0.00</td>\n",
       "      <td>0.0</td>\n",
       "      <td>0.00</td>\n",
       "      <td>27</td>\n",
       "      <td>0</td>\n",
       "      <td>0</td>\n",
       "    </tr>\n",
       "    <tr>\n",
       "      <th>3</th>\n",
       "      <td>151294213</td>\n",
       "      <td>1</td>\n",
       "      <td>0.81</td>\n",
       "      <td>0.00</td>\n",
       "      <td>0.00</td>\n",
       "      <td>0.13</td>\n",
       "      <td>0.06</td>\n",
       "      <td>0.00</td>\n",
       "      <td>737</td>\n",
       "      <td>0.00</td>\n",
       "      <td>...</td>\n",
       "      <td>0</td>\n",
       "      <td>0</td>\n",
       "      <td>0</td>\n",
       "      <td>0</td>\n",
       "      <td>0.00</td>\n",
       "      <td>0.0</td>\n",
       "      <td>0.00</td>\n",
       "      <td>11</td>\n",
       "      <td>0</td>\n",
       "      <td>0</td>\n",
       "    </tr>\n",
       "    <tr>\n",
       "      <th>4</th>\n",
       "      <td>166601616</td>\n",
       "      <td>0</td>\n",
       "      <td>0.29</td>\n",
       "      <td>0.12</td>\n",
       "      <td>0.08</td>\n",
       "      <td>0.09</td>\n",
       "      <td>0.42</td>\n",
       "      <td>0.45</td>\n",
       "      <td>7238</td>\n",
       "      <td>0.57</td>\n",
       "      <td>...</td>\n",
       "      <td>6</td>\n",
       "      <td>22</td>\n",
       "      <td>22</td>\n",
       "      <td>31</td>\n",
       "      <td>0.47</td>\n",
       "      <td>0.0</td>\n",
       "      <td>0.71</td>\n",
       "      <td>0</td>\n",
       "      <td>14</td>\n",
       "      <td>0</td>\n",
       "    </tr>\n",
       "  </tbody>\n",
       "</table>\n",
       "<p>5 rows × 33 columns</p>\n",
       "</div>"
      ],
      "text/plain": [
       "         uid  label  time_percentage_0_to_20  time_percentage_20_to_40  \\\n",
       "0  104777734      1                     1.00                      0.00   \n",
       "1   11596711      0                     0.47                      0.11   \n",
       "2  118301183      1                     0.70                      0.10   \n",
       "3  151294213      1                     0.81                      0.00   \n",
       "4  166601616      0                     0.29                      0.12   \n",
       "\n",
       "   time_percentage_40_to_60  time_percentage_60_to_80  \\\n",
       "0                      0.00                      0.00   \n",
       "1                      0.02                      0.06   \n",
       "2                      0.00                      0.00   \n",
       "3                      0.00                      0.13   \n",
       "4                      0.08                      0.09   \n",
       "\n",
       "   time_percentage_larger_than_80  time_percentage_larger_than_80_7d_over_30d  \\\n",
       "0                            0.00                                        0.00   \n",
       "1                            0.34                                        0.45   \n",
       "2                            0.20                                        0.00   \n",
       "3                            0.06                                        0.00   \n",
       "4                            0.42                                        0.45   \n",
       "\n",
       "   total_play_time  total_play_time_7d_over_30d             ...               \\\n",
       "0               37                         0.00             ...                \n",
       "1            11476                         0.47             ...                \n",
       "2              611                         0.00             ...                \n",
       "3              737                         0.00             ...                \n",
       "4             7238                         0.57             ...                \n",
       "\n",
       "   freq_S_last_3  freq_S_last_7  freq_S_last_14  freq_S_last_30  \\\n",
       "0              0              0               0               0   \n",
       "1              2              3              11              21   \n",
       "2              0              0               0               0   \n",
       "3              0              0               0               0   \n",
       "4              6             22              22              31   \n",
       "\n",
       "   P_7d_over_P_30d  D_7d_over_D_30d  S_7d_over_S_30d  \\\n",
       "0             0.00              0.0             0.00   \n",
       "1             0.36              0.0             0.14   \n",
       "2             0.00              0.0             0.00   \n",
       "3             0.00              0.0             0.00   \n",
       "4             0.47              0.0             0.71   \n",
       "\n",
       "   last_P_time_from_2017-04-28  last_D_time_from_2017-04-28  \\\n",
       "0                           28                            0   \n",
       "1                            0                            0   \n",
       "2                           27                            0   \n",
       "3                           11                            0   \n",
       "4                            0                           14   \n",
       "\n",
       "   last_S_time_from_2017-04-28  \n",
       "0                            0  \n",
       "1                            1  \n",
       "2                            0  \n",
       "3                            0  \n",
       "4                            0  \n",
       "\n",
       "[5 rows x 33 columns]"
      ]
     },
     "execution_count": 3,
     "metadata": {},
     "output_type": "execute_result"
    }
   ],
   "source": [
    "# Browse dataset\n",
    "df.head(5)"
   ]
  },
  {
   "cell_type": "code",
   "execution_count": 4,
   "metadata": {},
   "outputs": [
    {
     "data": {
      "text/html": [
       "<div>\n",
       "<style scoped>\n",
       "    .dataframe tbody tr th:only-of-type {\n",
       "        vertical-align: middle;\n",
       "    }\n",
       "\n",
       "    .dataframe tbody tr th {\n",
       "        vertical-align: top;\n",
       "    }\n",
       "\n",
       "    .dataframe thead th {\n",
       "        text-align: right;\n",
       "    }\n",
       "</style>\n",
       "<table border=\"1\" class=\"dataframe\">\n",
       "  <thead>\n",
       "    <tr style=\"text-align: right;\">\n",
       "      <th></th>\n",
       "      <th>uid</th>\n",
       "      <th>label</th>\n",
       "      <th>time_percentage_0_to_20</th>\n",
       "      <th>time_percentage_20_to_40</th>\n",
       "      <th>time_percentage_40_to_60</th>\n",
       "      <th>time_percentage_60_to_80</th>\n",
       "      <th>time_percentage_larger_than_80</th>\n",
       "      <th>time_percentage_larger_than_80_7d_over_30d</th>\n",
       "      <th>total_play_time</th>\n",
       "      <th>total_play_time_7d_over_30d</th>\n",
       "      <th>...</th>\n",
       "      <th>freq_S_last_3</th>\n",
       "      <th>freq_S_last_7</th>\n",
       "      <th>freq_S_last_14</th>\n",
       "      <th>freq_S_last_30</th>\n",
       "      <th>P_7d_over_P_30d</th>\n",
       "      <th>D_7d_over_D_30d</th>\n",
       "      <th>S_7d_over_S_30d</th>\n",
       "      <th>last_P_time_from_2017-04-28</th>\n",
       "      <th>last_D_time_from_2017-04-28</th>\n",
       "      <th>last_S_time_from_2017-04-28</th>\n",
       "    </tr>\n",
       "  </thead>\n",
       "  <tbody>\n",
       "    <tr>\n",
       "      <th>count</th>\n",
       "      <td>5.843200e+04</td>\n",
       "      <td>58432.000000</td>\n",
       "      <td>58432.000000</td>\n",
       "      <td>58432.000000</td>\n",
       "      <td>58432.000000</td>\n",
       "      <td>58432.000000</td>\n",
       "      <td>58432.000000</td>\n",
       "      <td>58432.000000</td>\n",
       "      <td>5.843200e+04</td>\n",
       "      <td>58432.000000</td>\n",
       "      <td>...</td>\n",
       "      <td>58432.000000</td>\n",
       "      <td>58432.000000</td>\n",
       "      <td>58432.000000</td>\n",
       "      <td>58432.000000</td>\n",
       "      <td>58432.000000</td>\n",
       "      <td>58432.000000</td>\n",
       "      <td>58432.000000</td>\n",
       "      <td>58432.000000</td>\n",
       "      <td>58432.000000</td>\n",
       "      <td>58432.000000</td>\n",
       "    </tr>\n",
       "    <tr>\n",
       "      <th>mean</th>\n",
       "      <td>1.673851e+08</td>\n",
       "      <td>0.620756</td>\n",
       "      <td>0.357923</td>\n",
       "      <td>0.058494</td>\n",
       "      <td>0.063032</td>\n",
       "      <td>0.085445</td>\n",
       "      <td>0.422201</td>\n",
       "      <td>0.095849</td>\n",
       "      <td>2.022589e+04</td>\n",
       "      <td>0.100825</td>\n",
       "      <td>...</td>\n",
       "      <td>0.349569</td>\n",
       "      <td>1.183975</td>\n",
       "      <td>2.872245</td>\n",
       "      <td>10.605045</td>\n",
       "      <td>0.100321</td>\n",
       "      <td>0.036120</td>\n",
       "      <td>0.055116</td>\n",
       "      <td>14.998939</td>\n",
       "      <td>6.881931</td>\n",
       "      <td>9.195081</td>\n",
       "    </tr>\n",
       "    <tr>\n",
       "      <th>std</th>\n",
       "      <td>1.038554e+07</td>\n",
       "      <td>0.485203</td>\n",
       "      <td>0.290443</td>\n",
       "      <td>0.099466</td>\n",
       "      <td>0.132124</td>\n",
       "      <td>0.173721</td>\n",
       "      <td>0.316197</td>\n",
       "      <td>0.210122</td>\n",
       "      <td>5.337275e+04</td>\n",
       "      <td>0.210832</td>\n",
       "      <td>...</td>\n",
       "      <td>2.155209</td>\n",
       "      <td>5.645728</td>\n",
       "      <td>10.787450</td>\n",
       "      <td>28.680910</td>\n",
       "      <td>0.209837</td>\n",
       "      <td>0.156055</td>\n",
       "      <td>0.173888</td>\n",
       "      <td>11.535102</td>\n",
       "      <td>10.725027</td>\n",
       "      <td>11.385494</td>\n",
       "    </tr>\n",
       "    <tr>\n",
       "      <th>min</th>\n",
       "      <td>9.328690e+05</td>\n",
       "      <td>0.000000</td>\n",
       "      <td>0.000000</td>\n",
       "      <td>0.000000</td>\n",
       "      <td>0.000000</td>\n",
       "      <td>0.000000</td>\n",
       "      <td>-0.020000</td>\n",
       "      <td>0.000000</td>\n",
       "      <td>0.000000e+00</td>\n",
       "      <td>0.000000</td>\n",
       "      <td>...</td>\n",
       "      <td>0.000000</td>\n",
       "      <td>0.000000</td>\n",
       "      <td>0.000000</td>\n",
       "      <td>0.000000</td>\n",
       "      <td>0.000000</td>\n",
       "      <td>0.000000</td>\n",
       "      <td>0.000000</td>\n",
       "      <td>0.000000</td>\n",
       "      <td>0.000000</td>\n",
       "      <td>0.000000</td>\n",
       "    </tr>\n",
       "    <tr>\n",
       "      <th>25%</th>\n",
       "      <td>1.680335e+08</td>\n",
       "      <td>0.000000</td>\n",
       "      <td>0.110000</td>\n",
       "      <td>0.000000</td>\n",
       "      <td>0.000000</td>\n",
       "      <td>0.000000</td>\n",
       "      <td>0.130000</td>\n",
       "      <td>0.000000</td>\n",
       "      <td>5.440000e+02</td>\n",
       "      <td>0.000000</td>\n",
       "      <td>...</td>\n",
       "      <td>0.000000</td>\n",
       "      <td>0.000000</td>\n",
       "      <td>0.000000</td>\n",
       "      <td>0.000000</td>\n",
       "      <td>0.000000</td>\n",
       "      <td>0.000000</td>\n",
       "      <td>0.000000</td>\n",
       "      <td>2.000000</td>\n",
       "      <td>0.000000</td>\n",
       "      <td>0.000000</td>\n",
       "    </tr>\n",
       "    <tr>\n",
       "      <th>50%</th>\n",
       "      <td>1.684907e+08</td>\n",
       "      <td>1.000000</td>\n",
       "      <td>0.320000</td>\n",
       "      <td>0.020000</td>\n",
       "      <td>0.030000</td>\n",
       "      <td>0.040000</td>\n",
       "      <td>0.410000</td>\n",
       "      <td>0.000000</td>\n",
       "      <td>3.623000e+03</td>\n",
       "      <td>0.000000</td>\n",
       "      <td>...</td>\n",
       "      <td>0.000000</td>\n",
       "      <td>0.000000</td>\n",
       "      <td>0.000000</td>\n",
       "      <td>1.000000</td>\n",
       "      <td>0.000000</td>\n",
       "      <td>0.000000</td>\n",
       "      <td>0.000000</td>\n",
       "      <td>15.000000</td>\n",
       "      <td>0.000000</td>\n",
       "      <td>2.000000</td>\n",
       "    </tr>\n",
       "    <tr>\n",
       "      <th>75%</th>\n",
       "      <td>1.687740e+08</td>\n",
       "      <td>1.000000</td>\n",
       "      <td>0.540000</td>\n",
       "      <td>0.080000</td>\n",
       "      <td>0.070000</td>\n",
       "      <td>0.080000</td>\n",
       "      <td>0.670000</td>\n",
       "      <td>0.080000</td>\n",
       "      <td>1.711300e+04</td>\n",
       "      <td>0.100000</td>\n",
       "      <td>...</td>\n",
       "      <td>0.000000</td>\n",
       "      <td>0.000000</td>\n",
       "      <td>1.000000</td>\n",
       "      <td>10.000000</td>\n",
       "      <td>0.100000</td>\n",
       "      <td>0.000000</td>\n",
       "      <td>0.000000</td>\n",
       "      <td>28.000000</td>\n",
       "      <td>13.000000</td>\n",
       "      <td>20.000000</td>\n",
       "    </tr>\n",
       "    <tr>\n",
       "      <th>max</th>\n",
       "      <td>1.692612e+08</td>\n",
       "      <td>1.000000</td>\n",
       "      <td>1.000000</td>\n",
       "      <td>1.000000</td>\n",
       "      <td>1.000000</td>\n",
       "      <td>1.000000</td>\n",
       "      <td>1.000000</td>\n",
       "      <td>1.000000</td>\n",
       "      <td>4.438919e+06</td>\n",
       "      <td>1.000000</td>\n",
       "      <td>...</td>\n",
       "      <td>114.000000</td>\n",
       "      <td>398.000000</td>\n",
       "      <td>451.000000</td>\n",
       "      <td>1462.000000</td>\n",
       "      <td>1.000000</td>\n",
       "      <td>1.000000</td>\n",
       "      <td>1.000000</td>\n",
       "      <td>29.000000</td>\n",
       "      <td>29.000000</td>\n",
       "      <td>29.000000</td>\n",
       "    </tr>\n",
       "  </tbody>\n",
       "</table>\n",
       "<p>8 rows × 33 columns</p>\n",
       "</div>"
      ],
      "text/plain": [
       "                uid         label  time_percentage_0_to_20  \\\n",
       "count  5.843200e+04  58432.000000             58432.000000   \n",
       "mean   1.673851e+08      0.620756                 0.357923   \n",
       "std    1.038554e+07      0.485203                 0.290443   \n",
       "min    9.328690e+05      0.000000                 0.000000   \n",
       "25%    1.680335e+08      0.000000                 0.110000   \n",
       "50%    1.684907e+08      1.000000                 0.320000   \n",
       "75%    1.687740e+08      1.000000                 0.540000   \n",
       "max    1.692612e+08      1.000000                 1.000000   \n",
       "\n",
       "       time_percentage_20_to_40  time_percentage_40_to_60  \\\n",
       "count              58432.000000              58432.000000   \n",
       "mean                   0.058494                  0.063032   \n",
       "std                    0.099466                  0.132124   \n",
       "min                    0.000000                  0.000000   \n",
       "25%                    0.000000                  0.000000   \n",
       "50%                    0.020000                  0.030000   \n",
       "75%                    0.080000                  0.070000   \n",
       "max                    1.000000                  1.000000   \n",
       "\n",
       "       time_percentage_60_to_80  time_percentage_larger_than_80  \\\n",
       "count              58432.000000                    58432.000000   \n",
       "mean                   0.085445                        0.422201   \n",
       "std                    0.173721                        0.316197   \n",
       "min                    0.000000                       -0.020000   \n",
       "25%                    0.000000                        0.130000   \n",
       "50%                    0.040000                        0.410000   \n",
       "75%                    0.080000                        0.670000   \n",
       "max                    1.000000                        1.000000   \n",
       "\n",
       "       time_percentage_larger_than_80_7d_over_30d  total_play_time  \\\n",
       "count                                58432.000000     5.843200e+04   \n",
       "mean                                     0.095849     2.022589e+04   \n",
       "std                                      0.210122     5.337275e+04   \n",
       "min                                      0.000000     0.000000e+00   \n",
       "25%                                      0.000000     5.440000e+02   \n",
       "50%                                      0.000000     3.623000e+03   \n",
       "75%                                      0.080000     1.711300e+04   \n",
       "max                                      1.000000     4.438919e+06   \n",
       "\n",
       "       total_play_time_7d_over_30d             ...               \\\n",
       "count                 58432.000000             ...                \n",
       "mean                      0.100825             ...                \n",
       "std                       0.210832             ...                \n",
       "min                       0.000000             ...                \n",
       "25%                       0.000000             ...                \n",
       "50%                       0.000000             ...                \n",
       "75%                       0.100000             ...                \n",
       "max                       1.000000             ...                \n",
       "\n",
       "       freq_S_last_3  freq_S_last_7  freq_S_last_14  freq_S_last_30  \\\n",
       "count   58432.000000   58432.000000    58432.000000    58432.000000   \n",
       "mean        0.349569       1.183975        2.872245       10.605045   \n",
       "std         2.155209       5.645728       10.787450       28.680910   \n",
       "min         0.000000       0.000000        0.000000        0.000000   \n",
       "25%         0.000000       0.000000        0.000000        0.000000   \n",
       "50%         0.000000       0.000000        0.000000        1.000000   \n",
       "75%         0.000000       0.000000        1.000000       10.000000   \n",
       "max       114.000000     398.000000      451.000000     1462.000000   \n",
       "\n",
       "       P_7d_over_P_30d  D_7d_over_D_30d  S_7d_over_S_30d  \\\n",
       "count     58432.000000     58432.000000     58432.000000   \n",
       "mean          0.100321         0.036120         0.055116   \n",
       "std           0.209837         0.156055         0.173888   \n",
       "min           0.000000         0.000000         0.000000   \n",
       "25%           0.000000         0.000000         0.000000   \n",
       "50%           0.000000         0.000000         0.000000   \n",
       "75%           0.100000         0.000000         0.000000   \n",
       "max           1.000000         1.000000         1.000000   \n",
       "\n",
       "       last_P_time_from_2017-04-28  last_D_time_from_2017-04-28  \\\n",
       "count                 58432.000000                 58432.000000   \n",
       "mean                     14.998939                     6.881931   \n",
       "std                      11.535102                    10.725027   \n",
       "min                       0.000000                     0.000000   \n",
       "25%                       2.000000                     0.000000   \n",
       "50%                      15.000000                     0.000000   \n",
       "75%                      28.000000                    13.000000   \n",
       "max                      29.000000                    29.000000   \n",
       "\n",
       "       last_S_time_from_2017-04-28  \n",
       "count                 58432.000000  \n",
       "mean                      9.195081  \n",
       "std                      11.385494  \n",
       "min                       0.000000  \n",
       "25%                       0.000000  \n",
       "50%                       2.000000  \n",
       "75%                      20.000000  \n",
       "max                      29.000000  \n",
       "\n",
       "[8 rows x 33 columns]"
      ]
     },
     "execution_count": 4,
     "metadata": {},
     "output_type": "execute_result"
    }
   ],
   "source": [
    "# Show summary stats\n",
    "df.describe()"
   ]
  },
  {
   "cell_type": "code",
   "execution_count": 5,
   "metadata": {},
   "outputs": [],
   "source": [
    "# one-hot encoding\n",
    "df['device_type_0'] = (df['device'] == 0).astype(int)\n",
    "df['device_type_1'] = (df['device'] == 1).astype(int)"
   ]
  },
  {
   "cell_type": "markdown",
   "metadata": {},
   "source": [
    "### 1.2 Define Features and Target"
   ]
  },
  {
   "cell_type": "code",
   "execution_count": 6,
   "metadata": {},
   "outputs": [],
   "source": [
    "selected_features = list(df.columns.values)"
   ]
  },
  {
   "cell_type": "code",
   "execution_count": 7,
   "metadata": {},
   "outputs": [
    {
     "data": {
      "text/plain": [
       "['time_percentage_0_to_20',\n",
       " 'time_percentage_20_to_40',\n",
       " 'time_percentage_40_to_60',\n",
       " 'time_percentage_60_to_80',\n",
       " 'time_percentage_larger_than_80',\n",
       " 'time_percentage_larger_than_80_7d_over_30d',\n",
       " 'total_play_time',\n",
       " 'total_play_time_7d_over_30d',\n",
       " 'average_play_time',\n",
       " 'freq_P_last_1',\n",
       " 'freq_P_last_3',\n",
       " 'freq_P_last_7',\n",
       " 'freq_P_last_14',\n",
       " 'freq_P_last_30',\n",
       " 'freq_D_last_1',\n",
       " 'freq_D_last_3',\n",
       " 'freq_D_last_7',\n",
       " 'freq_D_last_14',\n",
       " 'freq_D_last_30',\n",
       " 'freq_S_last_1',\n",
       " 'freq_S_last_3',\n",
       " 'freq_S_last_7',\n",
       " 'freq_S_last_14',\n",
       " 'freq_S_last_30',\n",
       " 'P_7d_over_P_30d',\n",
       " 'D_7d_over_D_30d',\n",
       " 'S_7d_over_S_30d',\n",
       " 'last_P_time_from_2017-04-28',\n",
       " 'last_D_time_from_2017-04-28',\n",
       " 'last_S_time_from_2017-04-28',\n",
       " 'device_type_0',\n",
       " 'device_type_1']"
      ]
     },
     "execution_count": 7,
     "metadata": {},
     "output_type": "execute_result"
    }
   ],
   "source": [
    "selected_features.remove('uid')\n",
    "selected_features.remove('label')\n",
    "selected_features.remove('device')\n",
    "selected_features"
   ]
  },
  {
   "cell_type": "code",
   "execution_count": 8,
   "metadata": {},
   "outputs": [],
   "source": [
    "X = df[selected_features]\n",
    "y = df['label']"
   ]
  },
  {
   "cell_type": "code",
   "execution_count": 9,
   "metadata": {},
   "outputs": [
    {
     "data": {
      "text/plain": [
       "(58432, 32)"
      ]
     },
     "execution_count": 9,
     "metadata": {},
     "output_type": "execute_result"
    }
   ],
   "source": [
    "X.shape"
   ]
  },
  {
   "cell_type": "code",
   "execution_count": 10,
   "metadata": {},
   "outputs": [
    {
     "data": {
      "text/plain": [
       "0    1\n",
       "1    0\n",
       "2    1\n",
       "3    1\n",
       "4    0\n",
       "Name: label, dtype: int64"
      ]
     },
     "execution_count": 10,
     "metadata": {},
     "output_type": "execute_result"
    }
   ],
   "source": [
    "y[:5]"
   ]
  },
  {
   "cell_type": "markdown",
   "metadata": {},
   "source": [
    "## 2. Split train-test data, and define model realted functions\n",
    "- 2.1 Train-test split the data  \n",
    "- 2.2 Define model related functions  "
   ]
  },
  {
   "cell_type": "markdown",
   "metadata": {},
   "source": [
    "### 2.1 Train-test split the data"
   ]
  },
  {
   "cell_type": "code",
   "execution_count": 11,
   "metadata": {},
   "outputs": [],
   "source": [
    "# import train test split function from sklearn\n",
    "from sklearn.model_selection import train_test_split\n",
    "X_train, X_test, y_train, y_test = train_test_split(X, y, test_size=0.2, random_state=0)"
   ]
  },
  {
   "cell_type": "markdown",
   "metadata": {},
   "source": [
    "### 2.2 Define model related functions"
   ]
  },
  {
   "cell_type": "markdown",
   "metadata": {},
   "source": [
    "#### Train model using sklearn"
   ]
  },
  {
   "cell_type": "code",
   "execution_count": 12,
   "metadata": {},
   "outputs": [],
   "source": [
    "# define function to perform train, test, and get model performance\n",
    "def train_test_model(clf, X_train, y_train, X_test, y_test, model):\n",
    "    # Fit a model by providing X and y from training set\n",
    "    clf.fit(X_train, y_train)\n",
    "\n",
    "    # Make prediction on the training data\n",
    "    y_train_pred = clf.predict(X_train)\n",
    "    p_train_pred = clf.predict_proba(X_train)[:,1]\n",
    "\n",
    "    # Make predictions on test data\n",
    "    y_test_pred = clf.predict(X_test)\n",
    "    p_test_pred = clf.predict_proba(X_test)[:,1]\n",
    "\n",
    "    # print model results\n",
    "    get_performance_metrics(y_train, p_train_pred, y_test, p_test_pred)\n",
    "    plot_roc_curve(y_train, p_train_pred, y_test, p_test_pred, model)\n"
   ]
  },
  {
   "cell_type": "markdown",
   "metadata": {},
   "source": [
    "#### Calculate the metric scores for the model"
   ]
  },
  {
   "cell_type": "code",
   "execution_count": 13,
   "metadata": {},
   "outputs": [],
   "source": [
    "# define function to plot the modle performance\n",
    "%matplotlib inline\n",
    "import matplotlib.pyplot as plt\n",
    "from sklearn.metrics import roc_curve, auc\n",
    "\n",
    "def plot_roc_curve(y_train, y_train_pred, y_test, y_test_pred, model):\n",
    "    roc_auc_train = roc_auc_score(y_train, y_train_pred)\n",
    "    fpr_train, tpr_train, _ = roc_curve(y_train, y_train_pred)\n",
    "\n",
    "    roc_auc_test = roc_auc_score(y_test, y_test_pred)\n",
    "    fpr_test, tpr_test, _ = roc_curve(y_test, y_test_pred)\n",
    "    plt.figure()\n",
    "    lw = 2\n",
    "    plt.plot(fpr_train, tpr_train, color='green',\n",
    "             lw=lw, label='ROC Train (AUC = %0.4f)' % roc_auc_train)\n",
    "    plt.plot(fpr_test, tpr_test, color='darkorange',\n",
    "             lw=lw, label='ROC Test (AUC = %0.4f)' % roc_auc_test)\n",
    "    plt.plot([0, 1], [0, 1], color='navy', lw=lw, linestyle='--')\n",
    "    plt.xlim([0.0, 1.0])\n",
    "    plt.ylim([0.0, 1.05])\n",
    "    plt.xlabel('False Positive Rate')\n",
    "    plt.ylabel('True Positive Rate')\n",
    "    plt.title('ROC Curves of '+ model)\n",
    "    plt.legend(loc=\"lower right\")\n",
    "    plt.show()"
   ]
  },
  {
   "cell_type": "code",
   "execution_count": 14,
   "metadata": {},
   "outputs": [],
   "source": [
    "# Import metrics functions from sklearn\n",
    "from sklearn.metrics import precision_score, accuracy_score, recall_score, f1_score, roc_auc_score"
   ]
  },
  {
   "cell_type": "code",
   "execution_count": 15,
   "metadata": {},
   "outputs": [],
   "source": [
    "import pandas as pd\n",
    "# Helper method to print metric scores    \n",
    "def get_performance_metrics(y_train, y_train_pred, y_test, y_test_pred, threshold=0.5):\n",
    "    metric_names = ['AUC','Accuracy','Precision','Recall','f1-score']\n",
    "    metric_values_train = [roc_auc_score(y_train, y_train_pred),\n",
    "                    accuracy_score(y_train, y_train_pred>threshold),\n",
    "                    precision_score(y_train, y_train_pred>threshold),\n",
    "                    recall_score(y_train, y_train_pred>threshold),\n",
    "                    f1_score(y_train, y_train_pred>threshold)\n",
    "                   ]\n",
    "    metric_values_test = [roc_auc_score(y_test, y_test_pred),\n",
    "                    accuracy_score(y_test, y_test_pred>threshold),\n",
    "                    precision_score(y_test, y_test_pred>threshold),\n",
    "                    recall_score(y_test, y_test_pred>threshold),\n",
    "                    f1_score(y_test, y_test_pred>threshold)\n",
    "                   ]\n",
    "    all_metrics = pd.DataFrame({'metrics':metric_names,\n",
    "                                'train':metric_values_train,\n",
    "                                'test':metric_values_test},columns=['metrics','train','test']).set_index('metrics')\n",
    "    print(all_metrics)"
   ]
  },
  {
   "cell_type": "markdown",
   "metadata": {},
   "source": [
    "## 3. Models comparison and reasoning \n",
    "- 3.1 Logistic Regression  \n",
    "- 3.2 Random Forest  \n",
    "- 3.3 Gradient Boosting Trees  "
   ]
  },
  {
   "cell_type": "markdown",
   "metadata": {},
   "source": [
    "### 3.1 Logistic Regression"
   ]
  },
  {
   "cell_type": "code",
   "execution_count": 16,
   "metadata": {},
   "outputs": [
    {
     "name": "stdout",
     "output_type": "stream",
     "text": [
      "              train      test\n",
      "metrics                      \n",
      "AUC        0.884195  0.886565\n",
      "Accuracy   0.812001  0.814666\n",
      "Precision  0.828210  0.827604\n",
      "Recall     0.880340  0.883023\n",
      "f1-score   0.853480  0.854416\n"
     ]
    },
    {
     "data": {
      "image/png": "[encoded data removed]",
      "text/plain": [
       "<Figure size 432x288 with 1 Axes>"
      ]
     },
     "metadata": {},
     "output_type": "display_data"
    }
   ],
   "source": [
    "# Import logistic regression from sklearn\n",
    "from sklearn.linear_model import LogisticRegression\n",
    "\n",
    "# Initialize model by providing parameters\n",
    "# http://scikit-learn.org/stable/modules/generated/sklearn.linear_model.LogisticRegression.html\n",
    "clf = LogisticRegression(C=1.0, penalty='l2')\n",
    "# Fit a model by providing X and y from training set\n",
    "clf.fit(X_train, y_train)\n",
    "\n",
    "# Train test model\n",
    "train_test_model(clf, X_train, y_train, X_test, y_test, 'Logistic Regression')"
   ]
  },
  {
   "cell_type": "markdown",
   "metadata": {},
   "source": [
    "#### AUC of test data is 0.8866 with Logistic Regression, we will try to improve model performance with Random Forest. "
   ]
  },
  {
   "cell_type": "markdown",
   "metadata": {},
   "source": [
    "### 3.2 Random Forest"
   ]
  },
  {
   "cell_type": "code",
   "execution_count": 20,
   "metadata": {},
   "outputs": [
    {
     "name": "stdout",
     "output_type": "stream",
     "text": [
      "              train      test\n",
      "metrics                      \n",
      "AUC        0.927675  0.906158\n",
      "Accuracy   0.852348  0.832891\n",
      "Precision  0.862525  0.845839\n",
      "Recall     0.907202  0.891081\n",
      "f1-score   0.884299  0.867871\n"
     ]
    },
    {
     "data": {
      "image/png": "[encoded data removed]",
      "text/plain": [
       "<Figure size 432x288 with 1 Axes>"
      ]
     },
     "metadata": {},
     "output_type": "display_data"
    }
   ],
   "source": [
    "# http://scikit-learn.org/stable/modules/generated/sklearn.ensemble.RandomForestClassifier.html\n",
    "from sklearn.ensemble import RandomForestClassifier\n",
    "\n",
    "# Choose some parameter combinations to try\n",
    "parameters = {'n_estimators': 50,\n",
    "              'max_features': 'auto',\n",
    "              'criterion': 'gini',\n",
    "              'max_depth': 20,\n",
    "              'min_samples_split': 2,\n",
    "              'min_samples_leaf': 20,\n",
    "              'random_state': 0,\n",
    "              'n_jobs': -1\n",
    "              }\n",
    "\n",
    "clf_rf = RandomForestClassifier(**parameters)\n",
    "\n",
    "# Fit a model by providing X and y from training set\n",
    "clf_rf.fit(X_train, y_train)\n",
    "\n",
    "# Train test model\n",
    "train_test_model(clf_rf, X_train, y_train, X_test, y_test, 'Random Forest')"
   ]
  },
  {
   "cell_type": "markdown",
   "metadata": {},
   "source": [
    "#### AUC of test data is 0.9061 with Random Forest, better than that of Logistic Regression with 0.8866,  because there are feature interaction and non-linearity relationship between features and target in our data set, trees algorithms can deal with these problems while logistic regression cannot."
   ]
  },
  {
   "cell_type": "markdown",
   "metadata": {},
   "source": [
    "#### We will try to further improve model performance with Gradient Boosting Trees, because in general, Gradient Boosting Trees can perform better than Random Forest, because it additionally tries to find optimal linear combination of trees (assume final model is the weighted sum of predictions of individual trees) in relation to given train data. This extra tuning may lead to more predictive power."
   ]
  },
  {
   "cell_type": "markdown",
   "metadata": {},
   "source": [
    "### 3.3 Gradient Boosting Trees"
   ]
  },
  {
   "cell_type": "code",
   "execution_count": 175,
   "metadata": {},
   "outputs": [
    {
     "name": "stdout",
     "output_type": "stream",
     "text": [
      "              train      test\n",
      "metrics                      \n",
      "AUC        0.914053  0.903622\n",
      "Accuracy   0.846572  0.830838\n",
      "Precision  0.858485  0.843442\n",
      "Recall     0.902009  0.890664\n",
      "f1-score   0.879709  0.866410\n"
     ]
    },
    {
     "data": {
      "image/png": "[encoded data removed]",
      "text/plain": [
       "<Figure size 432x288 with 1 Axes>"
      ]
     },
     "metadata": {},
     "output_type": "display_data"
    }
   ],
   "source": [
    "# http://scikit-learn.org/stable/modules/generated/sklearn.ensemble.GradientBoostingClassifier.html\n",
    "from sklearn.ensemble import GradientBoostingClassifier\n",
    "\n",
    "# Choose some parameter combinations to try\n",
    "# parameters = {\n",
    "#     'n_estimators': 100,\n",
    "#     'max_depth': 5,\n",
    "#     'learning_rate': 0.1,\n",
    "#     'random_state': 42\n",
    "# }\n",
    "\n",
    "parameters = {\n",
    "    'n_estimators': 200,\n",
    "    'max_depth': 3,\n",
    "    'learning_rate': 0.2,\n",
    "    'subsample': 0.8,\n",
    "    'max_features':0.7,\n",
    "    'random_state': 42\n",
    "}\n",
    "\n",
    "clf = GradientBoostingClassifier(**parameters)\n",
    "\n",
    "# Train test model\n",
    "train_test_model(clf, X_train, y_train, X_test, y_test, 'Gradient Boosting Trees')"
   ]
  },
  {
   "cell_type": "markdown",
   "metadata": {},
   "source": [
    "#### AUC of test data is 0.9036 with Gradient Boosting Trees, is close to that of Random Forest with 0.9061, means our Random forest has already performed greatly in this dataset and hard for Gradient Boosting Trees to perform better. \n",
    "### Thus, we choose Random Forest here. \n",
    "#### Next, we will try HyperParameter Tuning with Grid Search for Random Forest, to figure out whether we can do better."
   ]
  },
  {
   "cell_type": "markdown",
   "metadata": {},
   "source": [
    "##  4. HyperParameter Tuning with Grid Search\n",
    "- 4.1 Random Forest HyperParameter Tuning with Grid Search"
   ]
  },
  {
   "cell_type": "markdown",
   "metadata": {},
   "source": [
    "### 4.1 Random Forest HyperParameter Tuning with Grid Search"
   ]
  },
  {
   "cell_type": "code",
   "execution_count": 26,
   "metadata": {},
   "outputs": [
    {
     "data": {
      "text/plain": [
       "RandomForestClassifier(bootstrap=True, class_weight=None, criterion='gini',\n",
       "            max_depth=15, max_features='auto', max_leaf_nodes=None,\n",
       "            min_impurity_decrease=0.0, min_impurity_split=None,\n",
       "            min_samples_leaf=2, min_samples_split=2,\n",
       "            min_weight_fraction_leaf=0.0, n_estimators=200, n_jobs=-1,\n",
       "            oob_score=False, random_state=None, verbose=0,\n",
       "            warm_start=False)"
      ]
     },
     "execution_count": 26,
     "metadata": {},
     "output_type": "execute_result"
    }
   ],
   "source": [
    "from sklearn.ensemble import RandomForestClassifier\n",
    "from sklearn.metrics import make_scorer, roc_auc_score, accuracy_score\n",
    "from sklearn.model_selection import GridSearchCV\n",
    "\n",
    "# Choose the type of classifier. \n",
    "clf = RandomForestClassifier()\n",
    "\n",
    "# Choose some parameter combinations to try\n",
    "param_grid = {'n_estimators': [100,200], \n",
    "              'max_features': ['auto'], \n",
    "              'criterion': ['gini'],\n",
    "              'max_depth': [15,20,25], \n",
    "              'min_samples_split': [2],\n",
    "              'min_samples_leaf': [2,10,20],\n",
    "              'n_jobs':[-1]\n",
    "             }\n",
    "\n",
    "# Type of scoring used to compare parameter combinations\n",
    "acc_scorer = make_scorer(roc_auc_score)\n",
    "\n",
    "# Run the grid search\n",
    "# read theory\n",
    "grid_obj = GridSearchCV(clf, param_grid, cv=5, scoring=acc_scorer)\n",
    "grid_obj = grid_obj.fit(X_train, y_train)\n",
    "\n",
    "# Set the clf to the best combination of parameters\n",
    "clf = grid_obj.best_estimator_\n",
    "\n",
    "# Fit the best algorithm to the data. \n",
    "clf.fit(X_train, y_train)"
   ]
  },
  {
   "cell_type": "code",
   "execution_count": 27,
   "metadata": {},
   "outputs": [
    {
     "name": "stdout",
     "output_type": "stream",
     "text": [
      "              train      test\n",
      "metrics                      \n",
      "AUC        0.964287  0.906041\n",
      "Accuracy   0.906771  0.829469\n",
      "Precision  0.901991  0.843383\n",
      "Recall     0.953739  0.888024\n",
      "f1-score   0.927143  0.865128\n"
     ]
    },
    {
     "data": {
      "image/png": "[encoded data removed]",
      "text/plain": [
       "<Figure size 432x288 with 1 Axes>"
      ]
     },
     "metadata": {},
     "output_type": "display_data"
    }
   ],
   "source": [
    "# Train test model\n",
    "train_test_model(clf, X_train, y_train, X_test, y_test, 'Random Forest with Grid Search')"
   ]
  },
  {
   "cell_type": "markdown",
   "metadata": {},
   "source": [
    "#### The AUC of the  Random Forest with Grid Search is close to that of our previous Random Forest,  means we have already get a good model.\n",
    "#### We select this model to explore the features importance to get some insights"
   ]
  },
  {
   "cell_type": "markdown",
   "metadata": {},
   "source": [
    "## 5. Explore features importance to get insights\n",
    "- 5.1 Top 10 features analysis  \n",
    "- 5.2 Business model and stage analysis  \n",
    "- 5.3 Insights  \n",
    "- 5.4 Next setp "
   ]
  },
  {
   "cell_type": "markdown",
   "metadata": {},
   "source": [
    "### 5.1 Top 10 features analysis"
   ]
  },
  {
   "cell_type": "markdown",
   "metadata": {},
   "source": [
    "#### The plot below shows the ranked feature importance generated by Random Forest:"
   ]
  },
  {
   "cell_type": "code",
   "execution_count": 178,
   "metadata": {},
   "outputs": [
    {
     "data": {
      "image/png": "[encoded data removed]",
      "text/plain": [
       "<Figure size 720x720 with 1 Axes>"
      ]
     },
     "metadata": {},
     "output_type": "display_data"
    }
   ],
   "source": [
    "df_feature_importance = pd.DataFrame()\n",
    "df_feature_importance['feature'] = selected_features\n",
    "df_feature_importance['importance'] = clf.feature_importances_\n",
    "df_feature_importance.sort_values('importance',inplace=True)\n",
    "\n",
    "ax = df_feature_importance.plot.barh(figsize = (10, 10))\n",
    "t = np.arange(len(df_feature_importance['feature']))\n",
    "ax.set_yticks(t)\n",
    "ax.set_yticklabels(df_feature_importance['feature'])\n",
    "ax.set_title('Ranked Feature Importance Generated by Random Forest')\n",
    "plt.show()"
   ]
  },
  {
   "cell_type": "markdown",
   "metadata": {},
   "source": [
    "#### As we can see, the top 10 features are:"
   ]
  },
  {
   "cell_type": "markdown",
   "metadata": {},
   "source": [
    "1. 'last_P_time_from_2017-04-28': the larger the time gap between 'the last active day' and 'feature_window_end_date' is, the more likely the user will churn.   \n",
    "\n",
    "2. 'freq_P_last_7': the smaller play frequency in the last 7 days, the more likely the user will churn. And its feature importance is larger than those of 'freq_P_last_14', 'freq_P_last_30', which shows user recent behavior pattern is more informative.  \n",
    "\n",
    "3. 'freq_P_last_14': the same idea with 'freq_P_last_7'  \n",
    "\n",
    "4. 'total_play_time_7d_over_30d': if the total play time acceleration ratio is less than 25%, means user had played less time in the last 7 days than average level of the last 30 days, the smaller the ratio is, the more likely the user will churn.   \n",
    "\n",
    "5. 'time_percentage_larger_than_80_7d_over_30d': if the time_percentage acceleration ratio is less than 25%, means user had played less songs with high percentage in the last 7 days than average level of the last 30 days, the smaller the ratio is, the more likely the user will churn.   \n",
    "\n",
    "6. 'P_7d_over_30d': if the play frequency acceleration ratio is less than 25%, means user had played less frequently in the last 7 days than average level of the last 30 days, the smaller the ratio is, the more likely the user will churn.   \n",
    "\n",
    "7. 'total_play_time': the smaller total play time is, the more likely the user will churn.   \n",
    "\n",
    "8. 'freq_P_last_30': the same idea with 'freq_P_last_7'.  \n",
    "\n",
    "9. 'freq_S_last_14': the smaller search frequency in the last 14 days, the more likely the user will churn. Its feature importance is large perhaps because 14 days fits our label window which last 14 days better.  \n",
    "\n",
    "10. 'freq_P_last_3': the same idea with 'freq_P_last_7', while its time window is too short to be as informative as 'freq_P_last_7'  "
   ]
  },
  {
   "cell_type": "markdown",
   "metadata": {},
   "source": [
    "### 5.2 Business model and stage analysis"
   ]
  },
  {
   "cell_type": "markdown",
   "metadata": {},
   "source": [
    "####  As we are not told what business the music box is running, we will analyze different scenarios to figure out what we can do to reactive users with high churn probability."
   ]
  },
  {
   "cell_type": "markdown",
   "metadata": {},
   "source": [
    "1/ If it's running a freemium model:   \n",
    "For free users with high churn probability, we can offer them one month paid version free trial to reactive them;   \n",
    "For paid users with high churn probability, we can offer them discount or even a freemonth;   \n",
    "\n",
    "\n",
    "2/ If it's running a paid model:   \n",
    "For paid users with high churn probability, we can offer them discount or even a freemonth;   "
   ]
  },
  {
   "cell_type": "markdown",
   "metadata": {},
   "source": [
    "#### Of course, we need to consider two factors before offering free trial, discount or freemonth : "
   ]
  },
  {
   "cell_type": "markdown",
   "metadata": {},
   "source": [
    "1/ We should weigh the cost of doing so against the cost of acquiring another customer.   \n",
    "2/ We should make sure whether our music box is in the 'Stickiness' stage to improve user engagement, or in the 'Revenue' stage to improve profit.  \n",
    "\n",
    "\n",
    "If music box is in the 'Stickiness' stage, it's reasonable to offer trial, discount and freemonth even when the cost of doing so overweighs the cost of acquiring another customer to improve user engagement.  \n",
    "\n",
    "\n",
    "If music box is in 'Revenue' stage and the cost of offering trial, discount or freemonth overweighs the cost of acquiring another customer, it's better to just sending e-mail and allocate more budgets to campaigns to attract new users and improve profits.  "
   ]
  },
  {
   "cell_type": "markdown",
   "metadata": {},
   "source": [
    "#### We can calculate the churn rate to make a guess what stage our music box is in: "
   ]
  },
  {
   "cell_type": "code",
   "execution_count": 167,
   "metadata": {
    "scrolled": true
   },
   "outputs": [
    {
     "name": "stdout",
     "output_type": "stream",
     "text": [
      "Churn rate is: 0.62\n"
     ]
    }
   ],
   "source": [
    "# churn_rate = count of 1 / (count of 0 + count of 1)\n",
    "churn_count = df['label'].value_counts()\n",
    "churn_rate = round(churn_count[1] / (churn_count[0] + churn_count[1]), 2)\n",
    "print('Churn rate is: ' + str(churn_rate))"
   ]
  },
  {
   "cell_type": "markdown",
   "metadata": {},
   "source": [
    "#### As the music box has a very high churn rate of 0.62, we conclude it's in the 'Stickiness' stage, thus offering free trial, discount or freemonth is reasonable, and sending e-mail which is applicable to every business model is also good choice."
   ]
  },
  {
   "cell_type": "markdown",
   "metadata": {},
   "source": [
    "### 5.3 Insights "
   ]
  },
  {
   "cell_type": "markdown",
   "metadata": {},
   "source": [
    "#### By analyzing the top 10 features and business model above, we have some insights:"
   ]
  },
  {
   "cell_type": "markdown",
   "metadata": {},
   "source": [
    "1. Users' recent behavior pattern is more informative, we should pay more attention to last 7 days and last 14 days related matric, especially frequency features and acceleration features, like 'freq_P_last_14', 'freq_P_last_7', 'P_7d_over_30d', 'total_play_time_7d_over_30d' and 'time_percentage_larger_than_80_7d_over_30d'.  \n",
    "\n",
    "\n",
    "2. Once the time gap between 'the last active day' and feature_window_end_date' comes to 7 days, we should pay more attention to these users; once the time gap comes to 14 days, we should take some action to reactive them, like sending e-mail to recommend songs, offering free trial, discount or freemonth  \n",
    "\n",
    "\n",
    "3. We can also generate the churn probability of every user and rank to figure out the users most likely to churn, then send them e-mail to recommend songs, or offer them free trial, discount or freemonth to reactive them.  \n",
    "\n",
    "\n",
    "4. We can figure out our target users who are most unlikely to churn with our model, try to figure out what’s common to this subsection of users, refocus on their needs, and grow from there.   \n",
    "To be specific, develop features which target users care, allocate campaigns budget to markets where our target users in.   "
   ]
  },
  {
   "cell_type": "markdown",
   "metadata": {},
   "source": [
    "#### Generate the churn probability of every user and rank"
   ]
  },
  {
   "cell_type": "code",
   "execution_count": 168,
   "metadata": {},
   "outputs": [
    {
     "data": {
      "text/html": [
       "<div>\n",
       "<style scoped>\n",
       "    .dataframe tbody tr th:only-of-type {\n",
       "        vertical-align: middle;\n",
       "    }\n",
       "\n",
       "    .dataframe tbody tr th {\n",
       "        vertical-align: top;\n",
       "    }\n",
       "\n",
       "    .dataframe thead th {\n",
       "        text-align: right;\n",
       "    }\n",
       "</style>\n",
       "<table border=\"1\" class=\"dataframe\">\n",
       "  <thead>\n",
       "    <tr style=\"text-align: right;\">\n",
       "      <th></th>\n",
       "      <th>uid</th>\n",
       "      <th>churn_probality</th>\n",
       "    </tr>\n",
       "  </thead>\n",
       "  <tbody>\n",
       "    <tr>\n",
       "      <th>23403</th>\n",
       "      <td>167579404</td>\n",
       "      <td>0.992385</td>\n",
       "    </tr>\n",
       "    <tr>\n",
       "      <th>34738</th>\n",
       "      <td>168074891</td>\n",
       "      <td>0.992385</td>\n",
       "    </tr>\n",
       "    <tr>\n",
       "      <th>9010</th>\n",
       "      <td>168060616</td>\n",
       "      <td>0.992385</td>\n",
       "    </tr>\n",
       "    <tr>\n",
       "      <th>26701</th>\n",
       "      <td>168063033</td>\n",
       "      <td>0.992297</td>\n",
       "    </tr>\n",
       "    <tr>\n",
       "      <th>5</th>\n",
       "      <td>167570658</td>\n",
       "      <td>0.992033</td>\n",
       "    </tr>\n",
       "  </tbody>\n",
       "</table>\n",
       "</div>"
      ],
      "text/plain": [
       "             uid  churn_probality\n",
       "23403  167579404         0.992385\n",
       "34738  168074891         0.992385\n",
       "9010   168060616         0.992385\n",
       "26701  168063033         0.992297\n",
       "5      167570658         0.992033"
      ]
     },
     "execution_count": 168,
     "metadata": {},
     "output_type": "execute_result"
    }
   ],
   "source": [
    "churn_probability_by_uid = pd.DataFrame({'uid':df['uid'].values, 'churn_probality':clf.predict_proba(X)[:,1]})\n",
    "churn_probability_by_uid = churn_probability_by_uid.sort_values(by = 'churn_probality', ascending=False)\n",
    "churn_probability_by_uid.head(5)"
   ]
  },
  {
   "cell_type": "markdown",
   "metadata": {},
   "source": [
    "### 5.4 Next step\n",
    "#### Besides the insights mentioned above, I think there are aspects we can further dive deep, like:"
   ]
  },
  {
   "cell_type": "markdown",
   "metadata": {},
   "source": [
    "1. If we have a hypothesis that users churn because they don't like the songs we provide, we can analyze the songs played by churn users before they churned in a suitable time windows, try to figure out what’s common to the songs driven users churn, and avoid providing these kinds.\n",
    "\n",
    "2. It’s also important to track performance over time. If we have more data, we can see whether we’re improving or not, perform cohort analysis by comparing churn rate for each month.\n",
    "\n",
    "3. Develop 'like' feature to build a lock-in users experience, user can 'like' the music and keep it in their personal playlist, the more songs users keep, the stickier they will be, because there’s a lot of data in place, so churn probability may be lower. "
   ]
  },
  {
   "cell_type": "code",
   "execution_count": null,
   "metadata": {},
   "outputs": [],
   "source": []
  }
 ],
 "metadata": {
  "anaconda-cloud": {},
  "kernelspec": {
   "display_name": "Python 3",
   "language": "python",
   "name": "python3"
  },
  "language_info": {
   "codemirror_mode": {
    "name": "ipython",
    "version": 3
   },
   "file_extension": ".py",
   "mimetype": "text/x-python",
   "name": "python",
   "nbconvert_exporter": "python",
   "pygments_lexer": "ipython3",
   "version": "3.6.5"
  }
 },
 "nbformat": 4,
 "nbformat_minor": 1
}
